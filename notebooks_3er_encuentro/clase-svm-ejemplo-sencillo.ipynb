{
 "cells": [
  {
   "cell_type": "code",
   "execution_count": 1,
   "metadata": {
    "collapsed": true
   },
   "outputs": [],
   "source": [
    "%matplotlib inline"
   ]
  },
  {
   "cell_type": "markdown",
   "metadata": {},
   "source": [
    "# Tema: Support Vector Machines"
   ]
  },
  {
   "cell_type": "markdown",
   "metadata": {},
   "source": [
    "En esta notebook, utilizaremos el dataset \"empty.all.csv\" que contiene como clase positiva, 900 artículos de Wikipedia en inglés que presentan la falla \"Empty Section\" y como clase negativa, contiene 900 artículos destacados. El mismo se encuentra en el subdirectorio \"miscelaneos\" del repositorio Github. Los datos se cargan como un DataFrame mediante un método de la biblioteca seaborn. A tal fin es necesario copiar el dataset en el home local de seaborn. Por defecto usa ~/seaborn-data/, en Windows:  \"C:\\Users\\Nbre_Usuario\\seaborn-data\"."
   ]
  },
  {
   "cell_type": "markdown",
   "metadata": {},
   "source": [
    "## Ejemplos"
   ]
  },
  {
   "cell_type": "code",
   "execution_count": 2,
   "metadata": {},
   "outputs": [
    {
     "data": {
      "text/html": [
       "<div>\n",
       "<style>\n",
       "    .dataframe thead tr:only-child th {\n",
       "        text-align: right;\n",
       "    }\n",
       "\n",
       "    .dataframe thead th {\n",
       "        text-align: left;\n",
       "    }\n",
       "\n",
       "    .dataframe tbody tr th {\n",
       "        vertical-align: top;\n",
       "    }\n",
       "</style>\n",
       "<table border=\"1\" class=\"dataframe\">\n",
       "  <thead>\n",
       "    <tr style=\"text-align: right;\">\n",
       "      <th></th>\n",
       "      <th>wordSyllables</th>\n",
       "      <th>wordLength</th>\n",
       "      <th>wordCount</th>\n",
       "      <th>weaselWordRate</th>\n",
       "      <th>triviaSectionsCount</th>\n",
       "      <th>to_be_verbRate</th>\n",
       "      <th>templateCount</th>\n",
       "      <th>tableCount</th>\n",
       "      <th>syllableCount</th>\n",
       "      <th>subsubsectionLength</th>\n",
       "      <th>...</th>\n",
       "      <th>characterCount</th>\n",
       "      <th>categoryCount</th>\n",
       "      <th>brokenLinkCount</th>\n",
       "      <th>bormuth</th>\n",
       "      <th>auxiliaryVerbRate</th>\n",
       "      <th>ari</th>\n",
       "      <th>anonymousEditorRate</th>\n",
       "      <th>agePerEdit</th>\n",
       "      <th>age</th>\n",
       "      <th>has_flaw</th>\n",
       "    </tr>\n",
       "  </thead>\n",
       "  <tbody>\n",
       "    <tr>\n",
       "      <th>0</th>\n",
       "      <td>1.000000</td>\n",
       "      <td>3.021739</td>\n",
       "      <td>46</td>\n",
       "      <td>0.000000</td>\n",
       "      <td>0</td>\n",
       "      <td>0.000000</td>\n",
       "      <td>16</td>\n",
       "      <td>0</td>\n",
       "      <td>46</td>\n",
       "      <td>38.0956</td>\n",
       "      <td>...</td>\n",
       "      <td>139</td>\n",
       "      <td>2</td>\n",
       "      <td>0</td>\n",
       "      <td>-0.287230</td>\n",
       "      <td>0</td>\n",
       "      <td>4.302391</td>\n",
       "      <td>0.000000</td>\n",
       "      <td>135.307692</td>\n",
       "      <td>1759</td>\n",
       "      <td>yes</td>\n",
       "    </tr>\n",
       "    <tr>\n",
       "      <th>1</th>\n",
       "      <td>2.000000</td>\n",
       "      <td>7.500000</td>\n",
       "      <td>4</td>\n",
       "      <td>0.000000</td>\n",
       "      <td>0</td>\n",
       "      <td>0.000000</td>\n",
       "      <td>16</td>\n",
       "      <td>0</td>\n",
       "      <td>8</td>\n",
       "      <td>38.0956</td>\n",
       "      <td>...</td>\n",
       "      <td>30</td>\n",
       "      <td>2</td>\n",
       "      <td>0</td>\n",
       "      <td>0.399001</td>\n",
       "      <td>0</td>\n",
       "      <td>14.395000</td>\n",
       "      <td>0.000000</td>\n",
       "      <td>175.900000</td>\n",
       "      <td>1759</td>\n",
       "      <td>yes</td>\n",
       "    </tr>\n",
       "    <tr>\n",
       "      <th>2</th>\n",
       "      <td>1.642857</td>\n",
       "      <td>5.714286</td>\n",
       "      <td>14</td>\n",
       "      <td>0.000000</td>\n",
       "      <td>0</td>\n",
       "      <td>0.000000</td>\n",
       "      <td>25</td>\n",
       "      <td>0</td>\n",
       "      <td>23</td>\n",
       "      <td>38.0956</td>\n",
       "      <td>...</td>\n",
       "      <td>80</td>\n",
       "      <td>5</td>\n",
       "      <td>0</td>\n",
       "      <td>9.555114</td>\n",
       "      <td>0</td>\n",
       "      <td>6.359286</td>\n",
       "      <td>4.347826</td>\n",
       "      <td>76.478261</td>\n",
       "      <td>1759</td>\n",
       "      <td>yes</td>\n",
       "    </tr>\n",
       "    <tr>\n",
       "      <th>3</th>\n",
       "      <td>1.642857</td>\n",
       "      <td>5.714286</td>\n",
       "      <td>14</td>\n",
       "      <td>0.000000</td>\n",
       "      <td>0</td>\n",
       "      <td>0.000000</td>\n",
       "      <td>23</td>\n",
       "      <td>0</td>\n",
       "      <td>23</td>\n",
       "      <td>38.0956</td>\n",
       "      <td>...</td>\n",
       "      <td>80</td>\n",
       "      <td>5</td>\n",
       "      <td>0</td>\n",
       "      <td>9.555114</td>\n",
       "      <td>0</td>\n",
       "      <td>6.359286</td>\n",
       "      <td>0.000000</td>\n",
       "      <td>54.968750</td>\n",
       "      <td>1759</td>\n",
       "      <td>yes</td>\n",
       "    </tr>\n",
       "    <tr>\n",
       "      <th>4</th>\n",
       "      <td>1.902256</td>\n",
       "      <td>5.393484</td>\n",
       "      <td>399</td>\n",
       "      <td>0.250627</td>\n",
       "      <td>0</td>\n",
       "      <td>3.759398</td>\n",
       "      <td>37</td>\n",
       "      <td>1</td>\n",
       "      <td>759</td>\n",
       "      <td>38.0956</td>\n",
       "      <td>...</td>\n",
       "      <td>2152</td>\n",
       "      <td>4</td>\n",
       "      <td>0</td>\n",
       "      <td>5.678890</td>\n",
       "      <td>0</td>\n",
       "      <td>10.408792</td>\n",
       "      <td>3.947368</td>\n",
       "      <td>35.026316</td>\n",
       "      <td>2662</td>\n",
       "      <td>yes</td>\n",
       "    </tr>\n",
       "  </tbody>\n",
       "</table>\n",
       "<p>5 rows × 96 columns</p>\n",
       "</div>"
      ],
      "text/plain": [
       "   wordSyllables  wordLength  wordCount  weaselWordRate  triviaSectionsCount  \\\n",
       "0       1.000000    3.021739         46        0.000000                    0   \n",
       "1       2.000000    7.500000          4        0.000000                    0   \n",
       "2       1.642857    5.714286         14        0.000000                    0   \n",
       "3       1.642857    5.714286         14        0.000000                    0   \n",
       "4       1.902256    5.393484        399        0.250627                    0   \n",
       "\n",
       "   to_be_verbRate  templateCount  tableCount  syllableCount  \\\n",
       "0        0.000000             16           0             46   \n",
       "1        0.000000             16           0              8   \n",
       "2        0.000000             25           0             23   \n",
       "3        0.000000             23           0             23   \n",
       "4        3.759398             37           1            759   \n",
       "\n",
       "   subsubsectionLength    ...     characterCount  categoryCount  \\\n",
       "0              38.0956    ...                139              2   \n",
       "1              38.0956    ...                 30              2   \n",
       "2              38.0956    ...                 80              5   \n",
       "3              38.0956    ...                 80              5   \n",
       "4              38.0956    ...               2152              4   \n",
       "\n",
       "   brokenLinkCount   bormuth  auxiliaryVerbRate        ari  \\\n",
       "0                0 -0.287230                  0   4.302391   \n",
       "1                0  0.399001                  0  14.395000   \n",
       "2                0  9.555114                  0   6.359286   \n",
       "3                0  9.555114                  0   6.359286   \n",
       "4                0  5.678890                  0  10.408792   \n",
       "\n",
       "   anonymousEditorRate  agePerEdit   age  has_flaw  \n",
       "0             0.000000  135.307692  1759       yes  \n",
       "1             0.000000  175.900000  1759       yes  \n",
       "2             4.347826   76.478261  1759       yes  \n",
       "3             0.000000   54.968750  1759       yes  \n",
       "4             3.947368   35.026316  2662       yes  \n",
       "\n",
       "[5 rows x 96 columns]"
      ]
     },
     "execution_count": 2,
     "metadata": {},
     "output_type": "execute_result"
    }
   ],
   "source": [
    "import seaborn as sns\n",
    "empty = sns.load_dataset('empty.all',cache=True)\n",
    "empty.head()"
   ]
  },
  {
   "cell_type": "code",
   "execution_count": 3,
   "metadata": {},
   "outputs": [
    {
     "data": {
      "text/plain": [
       "['wordSyllables',\n",
       " 'wordLength',\n",
       " 'wordCount',\n",
       " 'weaselWordRate',\n",
       " 'triviaSectionsCount',\n",
       " 'to_be_verbRate',\n",
       " 'templateCount',\n",
       " 'tableCount',\n",
       " 'syllableCount',\n",
       " 'subsubsectionLength',\n",
       " 'subsubsectionCount',\n",
       " 'subsectionNesting',\n",
       " 'subsectionLength',\n",
       " 'subsectionCount',\n",
       " 'stopwordRate',\n",
       " 'smogIndex',\n",
       " 'shortestSubsubsectionLength',\n",
       " 'shortestSubsectionLength',\n",
       " 'shortestSentenceLength',\n",
       " 'shortestSectionLength',\n",
       " 'shortSentenceRate',\n",
       " 'sentenceLength',\n",
       " 'sentenceCount',\n",
       " 'sentenceBeginSubordinatingConjunctionRate',\n",
       " 'sentenceBeginPronounRate',\n",
       " 'sentenceBeginPrepositionRate',\n",
       " 'sentenceBeginInterrogativePronounRate',\n",
       " 'sentenceBeginCoordinatingConjunctionRate',\n",
       " 'sentenceBeginArticleRate',\n",
       " 'sectionNesting',\n",
       " 'sectionLength',\n",
       " 'sectionCount',\n",
       " 'registeredEditorRate',\n",
       " 'referenceWordRate',\n",
       " 'referenceSectionsCount',\n",
       " 'referenceSectionRate',\n",
       " 'referenceCount',\n",
       " 'reciprocity',\n",
       " 'questionRate',\n",
       " 'questionCount',\n",
       " 'pronounRate',\n",
       " 'prepositionRate',\n",
       " 'peacockWordRate',\n",
       " 'passiveSentenceRate',\n",
       " 'paragraphLength',\n",
       " 'paragraphCount',\n",
       " 'pageRank',\n",
       " 'oneSyllableWordRate',\n",
       " 'oneSyllableWordCount',\n",
       " 'nominalizationRate',\n",
       " 'miyazaki',\n",
       " 'longestSubsubsectionLength',\n",
       " 'longestSubsectionLength',\n",
       " 'longestSentenceLength',\n",
       " 'longestSectionLength',\n",
       " 'longWordRate',\n",
       " 'longSentenceRate',\n",
       " 'lix',\n",
       " 'listRate',\n",
       " 'linkRate',\n",
       " 'languageLinkCount',\n",
       " 'internalLinkCount',\n",
       " 'informationToNoiseRatio',\n",
       " 'inLinkCount',\n",
       " 'imagesPerSection',\n",
       " 'imageCount',\n",
       " 'headingCount',\n",
       " 'gunningFogIndex',\n",
       " 'forcastGradeLevel',\n",
       " 'fleschReadingEase',\n",
       " 'fleschKincaidGradeLevel',\n",
       " 'fileCount',\n",
       " 'externalLinksPerSection',\n",
       " 'externalLinkCount',\n",
       " 'editsPerEditor',\n",
       " 'editorRate',\n",
       " 'editorCount',\n",
       " 'editCount',\n",
       " 'easyWordRate',\n",
       " 'discussionEditCount',\n",
       " 'difficultWordRate',\n",
       " 'daleChall',\n",
       " 'currency',\n",
       " 'conjunctionRate',\n",
       " 'complexWordRate',\n",
       " 'colemanLiauIndex',\n",
       " 'characterCount',\n",
       " 'categoryCount',\n",
       " 'brokenLinkCount',\n",
       " 'bormuth',\n",
       " 'auxiliaryVerbRate',\n",
       " 'ari',\n",
       " 'anonymousEditorRate',\n",
       " 'agePerEdit',\n",
       " 'age',\n",
       " 'has_flaw']"
      ]
     },
     "execution_count": 3,
     "metadata": {},
     "output_type": "execute_result"
    }
   ],
   "source": [
    "list(empty.columns.values)"
   ]
  },
  {
   "cell_type": "code",
   "execution_count": 4,
   "metadata": {},
   "outputs": [
    {
     "data": {
      "text/plain": [
       "(1800, 96)"
      ]
     },
     "execution_count": 4,
     "metadata": {},
     "output_type": "execute_result"
    }
   ],
   "source": [
    "empty.shape"
   ]
  },
  {
   "cell_type": "code",
   "execution_count": 5,
   "metadata": {},
   "outputs": [
    {
     "data": {
      "text/plain": [
       "(1800, 95)"
      ]
     },
     "execution_count": 5,
     "metadata": {},
     "output_type": "execute_result"
    }
   ],
   "source": [
    "X_empty = empty.drop('has_flaw', axis=1)\n",
    "X_empty.shape"
   ]
  },
  {
   "cell_type": "code",
   "execution_count": 6,
   "metadata": {},
   "outputs": [
    {
     "data": {
      "text/plain": [
       "(1800,)"
      ]
     },
     "execution_count": 6,
     "metadata": {},
     "output_type": "execute_result"
    }
   ],
   "source": [
    "y_empty = empty['has_flaw']\n",
    "y_empty.shape"
   ]
  },
  {
   "cell_type": "code",
   "execution_count": 7,
   "metadata": {
    "collapsed": true
   },
   "outputs": [],
   "source": [
    "from sklearn.model_selection import train_test_split\n",
    "X_train, X_test, y_train, y_test = train_test_split(\n",
    "    X_empty, y_empty, random_state=0)"
   ]
  },
  {
   "cell_type": "code",
   "execution_count": 8,
   "metadata": {},
   "outputs": [
    {
     "name": "stdout",
     "output_type": "stream",
     "text": [
      "X_train shape: (1350, 95)\n",
      "y_train shape: (1350,)\n"
     ]
    }
   ],
   "source": [
    "print(\"X_train shape: {}\".format(X_train.shape))\n",
    "print(\"y_train shape: {}\".format(y_train.shape))"
   ]
  },
  {
   "cell_type": "code",
   "execution_count": 9,
   "metadata": {},
   "outputs": [
    {
     "name": "stdout",
     "output_type": "stream",
     "text": [
      "X_test shape: (450, 95)\n",
      "y_test shape: (450,)\n"
     ]
    }
   ],
   "source": [
    "print(\"X_test shape: {}\".format(X_test.shape))\n",
    "print(\"y_test shape: {}\".format(y_test.shape))"
   ]
  },
  {
   "cell_type": "code",
   "execution_count": 10,
   "metadata": {},
   "outputs": [
    {
     "data": {
      "text/plain": [
       "SVC(C=256, cache_size=200, class_weight=None, coef0=0.0,\n",
       "  decision_function_shape='ovr', degree=3, gamma=0.001, kernel='rbf',\n",
       "  max_iter=-1, probability=False, random_state=None, shrinking=True,\n",
       "  tol=0.001, verbose=False)"
      ]
     },
     "execution_count": 10,
     "metadata": {},
     "output_type": "execute_result"
    }
   ],
   "source": [
    "from sklearn import svm\n",
    "modelSVM = svm.SVC(gamma=0.001,C=256)\n",
    "modelSVM.fit(X_train, y_train)"
   ]
  },
  {
   "cell_type": "code",
   "execution_count": 11,
   "metadata": {
    "collapsed": true
   },
   "outputs": [],
   "source": [
    "y_model = modelSVM.predict(X_test)"
   ]
  },
  {
   "cell_type": "code",
   "execution_count": 12,
   "metadata": {},
   "outputs": [
    {
     "data": {
      "text/plain": [
       "0.5955555555555555"
      ]
     },
     "execution_count": 12,
     "metadata": {},
     "output_type": "execute_result"
    }
   ],
   "source": [
    "from sklearn.metrics import accuracy_score\n",
    "accuracy_score(y_test, y_model)"
   ]
  },
  {
   "cell_type": "code",
   "execution_count": 13,
   "metadata": {},
   "outputs": [
    {
     "name": "stdout",
     "output_type": "stream",
     "text": [
      "             precision    recall  f1-score   support\n",
      "\n",
      "         no       0.55      1.00      0.71       220\n",
      "        yes       1.00      0.21      0.35       230\n",
      "\n",
      "avg / total       0.78      0.60      0.52       450\n",
      "\n"
     ]
    }
   ],
   "source": [
    "from sklearn.metrics import classification_report\n",
    "print(classification_report(y_test, y_model))"
   ]
  },
  {
   "cell_type": "code",
   "execution_count": 14,
   "metadata": {},
   "outputs": [
    {
     "data": {
      "image/png": "[encoded data removed]",
      "text/plain": [
       "<matplotlib.figure.Figure at 0x21138fc37f0>"
      ]
     },
     "metadata": {},
     "output_type": "display_data"
    }
   ],
   "source": [
    "target_names = ['no', 'yes']\n",
    "\n",
    "import matplotlib.pyplot as plt\n",
    "from sklearn.metrics import confusion_matrix\n",
    "\n",
    "mat = confusion_matrix(y_test, y_model)\n",
    "\n",
    "sns.heatmap(mat.T, square=True, annot=True, cbar=False, fmt=\"d\", xticklabels=target_names, yticklabels=target_names)\n",
    "plt.xlabel('valor verdadero')\n",
    "plt.ylabel('valor predicho');\n",
    "\n"
   ]
  },
  {
   "cell_type": "code",
   "execution_count": null,
   "metadata": {
    "collapsed": true
   },
   "outputs": [],
   "source": []
  }
 ],
 "metadata": {
  "anaconda-cloud": {},
  "kernelspec": {
   "display_name": "Python 3",
   "language": "python",
   "name": "python3"
  },
  "language_info": {
   "codemirror_mode": {
    "name": "ipython",
    "version": 3
   },
   "file_extension": ".py",
   "mimetype": "text/x-python",
   "name": "python",
   "nbconvert_exporter": "python",
   "pygments_lexer": "ipython3",
   "version": "3.6.3"
  }
 },
 "nbformat": 4,
 "nbformat_minor": 1
}
